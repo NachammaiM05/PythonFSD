{
 "cells": [
  {
   "cell_type": "code",
   "execution_count": 1,
   "id": "02b4b8f8-900e-42ce-8dfd-2240b34553de",
   "metadata": {},
   "outputs": [
    {
     "name": "stdout",
     "output_type": "stream",
     "text": [
      "<class 'int'>\n"
     ]
    }
   ],
   "source": [
    "k=8\n",
    "print(type(k))"
   ]
  },
  {
   "cell_type": "code",
   "execution_count": 7,
   "id": "68180d8a-92f8-47ba-a491-955bbc402dd2",
   "metadata": {},
   "outputs": [
    {
     "name": "stdout",
     "output_type": "stream",
     "text": [
      "5.0\n",
      "(5+0j)\n",
      "5\n",
      "<class 'float'>\n",
      "<class 'complex'>\n",
      "<class 'str'>\n"
     ]
    }
   ],
   "source": [
    "k=5\n",
    "k1=float(k)\n",
    "k2=complex(k)\n",
    "k3=str(k)\n",
    "print(k1)\n",
    "print(k2)\n",
    "print(k3)\n",
    "print(type(k1))\n",
    "print(type(k2))\n",
    "print(type(k3))"
   ]
  },
  {
   "cell_type": "code",
   "execution_count": 15,
   "id": "0363cb69-cd89-4757-a06e-7a54bfc10ce8",
   "metadata": {},
   "outputs": [
    {
     "name": "stdout",
     "output_type": "stream",
     "text": [
      "5\n"
     ]
    }
   ],
   "source": [
    "k='Hello'\n",
    "print(len(k))\n"
   ]
  },
  {
   "cell_type": "code",
   "execution_count": 23,
   "id": "a0d4b5de-f157-4314-bfa7-a33ec8cc920d",
   "metadata": {},
   "outputs": [
    {
     "name": "stdout",
     "output_type": "stream",
     "text": [
      "8.0\n",
      "(8+0j)\n",
      "8\n",
      "8\n",
      "<class 'float'>\n",
      "<class 'complex'>\n",
      "<class 'str'>\n",
      "<class 'int'>\n"
     ]
    }
   ],
   "source": [
    "k=\"8\"\n",
    "k1=float(k)\n",
    "k2=complex(k)\n",
    "k3=str(k)\n",
    "k4=int(k)\n",
    "print(k1)\n",
    "print(k2)\n",
    "print(k3)\n",
    "print(k4)\n",
    "print(type(k1))\n",
    "print(type(k2))\n",
    "print(type(k3))\n",
    "print(type(k4))"
   ]
  },
  {
   "cell_type": "code",
   "execution_count": 21,
   "id": "f64df027-06cf-47b3-84d4-9d52e3ae9e82",
   "metadata": {},
   "outputs": [
    {
     "ename": "ValueError",
     "evalue": "invalid literal for int() with base 10: 'hi'",
     "output_type": "error",
     "traceback": [
      "\u001b[1;31m---------------------------------------------------------------------------\u001b[0m",
      "\u001b[1;31mValueError\u001b[0m                                Traceback (most recent call last)",
      "Cell \u001b[1;32mIn[21], line 2\u001b[0m\n\u001b[0;32m      1\u001b[0m k\u001b[38;5;241m=\u001b[39m\u001b[38;5;124m\"\u001b[39m\u001b[38;5;124mhi\u001b[39m\u001b[38;5;124m\"\u001b[39m\n\u001b[1;32m----> 2\u001b[0m k1\u001b[38;5;241m=\u001b[39m\u001b[38;5;28mint\u001b[39m(k)\n\u001b[0;32m      3\u001b[0m \u001b[38;5;28mprint\u001b[39m(k1)\n",
      "\u001b[1;31mValueError\u001b[0m: invalid literal for int() with base 10: 'hi'"
     ]
    }
   ],
   "source": [
    "k=\"hi\"\n",
    "k1=int(k)\n",
    "print(k1)"
   ]
  },
  {
   "cell_type": "code",
   "execution_count": 33,
   "id": "1fddadd9-938d-4842-8260-a4b7f578f088",
   "metadata": {},
   "outputs": [
    {
     "name": "stdout",
     "output_type": "stream",
     "text": [
      "(8+0j)\n",
      "8\n",
      "<class 'complex'>\n",
      "<class 'int'>\n"
     ]
    }
   ],
   "source": [
    "k=\"8.0\"\n",
    "k1=complex(k)\n",
    "k2=int(float(k))\n",
    "print(k1)\n",
    "print(k2)\n",
    "print(type(k1))\n",
    "print(type(k2))\n",
    "\n"
   ]
  },
  {
   "cell_type": "code",
   "execution_count": null,
   "id": "1367b347-0946-461c-b3c3-6215b5369f4c",
   "metadata": {},
   "outputs": [],
   "source": []
  },
  {
   "cell_type": "code",
   "execution_count": 35,
   "id": "4bb2e6d8-6c87-4173-b14c-7e5da67df70b",
   "metadata": {},
   "outputs": [
    {
     "ename": "TypeError",
     "evalue": "float() argument must be a string or a real number, not 'complex'",
     "output_type": "error",
     "traceback": [
      "\u001b[1;31m---------------------------------------------------------------------------\u001b[0m",
      "\u001b[1;31mTypeError\u001b[0m                                 Traceback (most recent call last)",
      "Cell \u001b[1;32mIn[35], line 2\u001b[0m\n\u001b[0;32m      1\u001b[0m k\u001b[38;5;241m=\u001b[39m\u001b[38;5;241m5\u001b[39m\u001b[38;5;241m+\u001b[39m\u001b[38;5;241m2\u001b[39mj\n\u001b[1;32m----> 2\u001b[0m k1\u001b[38;5;241m=\u001b[39m\u001b[38;5;28mfloat\u001b[39m(k)\n\u001b[0;32m      3\u001b[0m k2\u001b[38;5;241m=\u001b[39m\u001b[38;5;28mint\u001b[39m(k)\n\u001b[0;32m      4\u001b[0m k3\u001b[38;5;241m=\u001b[39m\u001b[38;5;28mstr\u001b[39m(k)\n",
      "\u001b[1;31mTypeError\u001b[0m: float() argument must be a string or a real number, not 'complex'"
     ]
    }
   ],
   "source": [
    "k=5+2j\n",
    "k1=float(k)\n",
    "k2=int(k)\n",
    "k3=str(k)\n",
    "print(k1)\n",
    "print(k2)\n",
    "print(k3)\n",
    "print(type(k1))\n",
    "print(type(k2))\n",
    "print(type(k3))"
   ]
  },
  {
   "cell_type": "code",
   "execution_count": 47,
   "id": "7ca28f49-d04c-403f-b238-8b04e60d8167",
   "metadata": {},
   "outputs": [
    {
     "name": "stdout",
     "output_type": "stream",
     "text": [
      "5.0\n",
      "2.0\n"
     ]
    }
   ],
   "source": [
    "k=5+2j\n",
    "real_part= float(k.real)\n",
    "imag_part= float(k.imag)\n",
    "print(real_part)\n",
    "print(imag_part)"
   ]
  },
  {
   "cell_type": "code",
   "execution_count": null,
   "id": "d30f484c-030d-47ba-952c-e7617ece2625",
   "metadata": {},
   "outputs": [],
   "source": []
  }
 ],
 "metadata": {
  "kernelspec": {
   "display_name": "Python [conda env:base] *",
   "language": "python",
   "name": "conda-base-py"
  },
  "language_info": {
   "codemirror_mode": {
    "name": "ipython",
    "version": 3
   },
   "file_extension": ".py",
   "mimetype": "text/x-python",
   "name": "python",
   "nbconvert_exporter": "python",
   "pygments_lexer": "ipython3",
   "version": "3.12.7"
  }
 },
 "nbformat": 4,
 "nbformat_minor": 5
}
