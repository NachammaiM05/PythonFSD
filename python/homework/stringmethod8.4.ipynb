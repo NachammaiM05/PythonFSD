{
 "cells": [
  {
   "cell_type": "code",
   "execution_count": 11,
   "id": "09a58687-d407-4f58-ad0c-f468aae8ef1a",
   "metadata": {},
   "outputs": [
    {
     "name": "stdout",
     "output_type": "stream",
     "text": [
      "4\n"
     ]
    }
   ],
   "source": [
    "#count()\n",
    "k=\"apple, apple My apple , cute apple\"\n",
    "x=k.count(\"apple\")\n",
    "print(x)"
   ]
  },
  {
   "cell_type": "code",
   "execution_count": 13,
   "id": "bb9b7f76-0d86-4894-a45c-a4d686475417",
   "metadata": {},
   "outputs": [
    {
     "name": "stdout",
     "output_type": "stream",
     "text": [
      "True\n"
     ]
    }
   ],
   "source": [
    "#endwith()\n",
    "k=\"apple, apple My apple , cute apple\"\n",
    "x=k.endswith(\"e\")\n",
    "print(x)"
   ]
  },
  {
   "cell_type": "code",
   "execution_count": 24,
   "id": "b943a694-a480-412c-b1cc-7f0945b3c025",
   "metadata": {},
   "outputs": [
    {
     "name": "stdout",
     "output_type": "stream",
     "text": [
      "3\n"
     ]
    }
   ],
   "source": [
    "#find()\n",
    "k=\" i love apple\"\n",
    "x=k.find(\"l\")\n",
    "print(x)"
   ]
  },
  {
   "cell_type": "code",
   "execution_count": 26,
   "id": "6c8e424d-f41d-4805-8c4c-be52b9b1f19d",
   "metadata": {},
   "outputs": [
    {
     "name": "stdout",
     "output_type": "stream",
     "text": [
      "Tom*Jerry\n"
     ]
    }
   ],
   "source": [
    "#join()\n",
    "list=(\"Tom\", \"Jerry\")\n",
    "x=\"*\".join(list)\n",
    "print(x)"
   ]
  },
  {
   "cell_type": "code",
   "execution_count": 1,
   "id": "fe2c9fc3-865a-4b31-a07e-cafc75dc9bf2",
   "metadata": {},
   "outputs": [
    {
     "name": "stdout",
     "output_type": "stream",
     "text": [
      "Hi, Welcome I Am Tom!\n"
     ]
    }
   ],
   "source": [
    "#title()\n",
    "k = \"hi, welcome i am tom!\"\n",
    "x=k.title()\n",
    "print(x)"
   ]
  },
  {
   "cell_type": "code",
   "execution_count": 3,
   "id": "ce3b3950-eec6-48ce-8f95-4729e9e48d96",
   "metadata": {},
   "outputs": [
    {
     "name": "stdout",
     "output_type": "stream",
     "text": [
      "b'My Name is St@le'\n"
     ]
    }
   ],
   "source": [
    "#encode()\n",
    "k=\"My Name is St@le\"\n",
    "x=k.encode()\n",
    "print(x)"
   ]
  },
  {
   "cell_type": "code",
   "execution_count": 15,
   "id": "99e66dd3-8b9d-4869-b04c-cdf5f0fa93d4",
   "metadata": {},
   "outputs": [
    {
     "name": "stdout",
     "output_type": "stream",
     "text": [
      "7\n"
     ]
    }
   ],
   "source": [
    "#index()\n",
    "k= \"Hello, welcome to my world.\"\n",
    "x=k.index(\"welcome\")\n",
    "print(x)"
   ]
  },
  {
   "cell_type": "code",
   "execution_count": null,
   "id": "e44c971f-1d22-41ab-bd64-556322e47e99",
   "metadata": {},
   "outputs": [],
   "source": []
  }
 ],
 "metadata": {
  "kernelspec": {
   "display_name": "Python [conda env:base] *",
   "language": "python",
   "name": "conda-base-py"
  },
  "language_info": {
   "codemirror_mode": {
    "name": "ipython",
    "version": 3
   },
   "file_extension": ".py",
   "mimetype": "text/x-python",
   "name": "python",
   "nbconvert_exporter": "python",
   "pygments_lexer": "ipython3",
   "version": "3.12.7"
  }
 },
 "nbformat": 4,
 "nbformat_minor": 5
}
