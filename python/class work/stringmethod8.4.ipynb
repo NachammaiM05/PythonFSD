{
 "cells": [
  {
   "cell_type": "code",
   "execution_count": 7,
   "id": "b9466055-dbc8-4db1-a1e3-19fd90ebd54c",
   "metadata": {},
   "outputs": [
    {
     "name": "stdout",
     "output_type": "stream",
     "text": [
      " Hello \n"
     ]
    }
   ],
   "source": [
    "k=(\" Hello \")\n",
    "print(k.strip(\"o\"))"
   ]
  },
  {
   "cell_type": "code",
   "execution_count": 9,
   "id": "73431a46-16c7-4847-ad00-35f9938f7d9b",
   "metadata": {},
   "outputs": [
    {
     "name": "stdout",
     "output_type": "stream",
     "text": [
      " Hell\n"
     ]
    }
   ],
   "source": [
    "k=(\" Hello\")\n",
    "print(k.strip(\"o\"))"
   ]
  },
  {
   "cell_type": "code",
   "execution_count": 13,
   "id": "d3cded9e-3ca7-4b2d-8f32-fe6899635880",
   "metadata": {},
   "outputs": [
    {
     "name": "stdout",
     "output_type": "stream",
     "text": [
      "hi i amtom fromChennai\n"
     ]
    }
   ],
   "source": [
    "a=\"tom\"\n",
    "b=\"Chennai\"\n",
    "k=f\"hi i am{a} from{b}\"\n",
    "print(k)"
   ]
  },
  {
   "cell_type": "code",
   "execution_count": 17,
   "id": "47495eba-154a-45a9-a251-9d6808b8bb5b",
   "metadata": {},
   "outputs": [
    {
     "name": "stdout",
     "output_type": "stream",
     "text": [
      "[' Hell', ' W', 'rld ']\n"
     ]
    }
   ],
   "source": [
    "k=(\" Hello World \")\n",
    "print(k.split(\"o\"))"
   ]
  },
  {
   "cell_type": "code",
   "execution_count": null,
   "id": "fa064045-dc50-4de8-8fce-720a9ef9e1ed",
   "metadata": {},
   "outputs": [],
   "source": [
    "k=\"welcome, hi\"\n",
    "print(\n",
    "\n",
    "\n",
    "\n",
    "\n",
    "\n",
    "\n",
    "\n",
    "\n",
    "    "
   ]
  }
 ],
 "metadata": {
  "kernelspec": {
   "display_name": "Python [conda env:base] *",
   "language": "python",
   "name": "conda-base-py"
  },
  "language_info": {
   "codemirror_mode": {
    "name": "ipython",
    "version": 3
   },
   "file_extension": ".py",
   "mimetype": "text/x-python",
   "name": "python",
   "nbconvert_exporter": "python",
   "pygments_lexer": "ipython3",
   "version": "3.12.7"
  }
 },
 "nbformat": 4,
 "nbformat_minor": 5
}
